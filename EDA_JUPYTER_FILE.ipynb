{
 "cells": [
  {
   "cell_type": "markdown",
   "id": "c910e335",
   "metadata": {},
   "source": [
    "## Appendix \n",
    "- Click on the links:\n",
    ">1. <a href=#LibrariesImport>Libraries Import</a> \n",
    ">2. <a href=#LoadData>Load Data</a>\n",
    ">3. <a id=\"Ques\">Questions</a><br>\n",
    ">4. <a href=#CleaningData>Cleaning Data</a>\n",
    ">5. <a href=#Visuals>Visuals</a>  "
   ]
  },
  {
   "cell_type": "markdown",
   "id": "972121e7",
   "metadata": {},
   "source": [
    "## Libraries Import"
   ]
  },
  {
   "cell_type": "code",
   "execution_count": 2,
   "id": "1f1aaaf3",
   "metadata": {},
   "outputs": [],
   "source": [
    "\n",
    "import pandas as pd\n",
    "import numpy as np\n",
    "import matplotlib.pyplot as plt\n",
    "import seaborn as sns\n",
    "import math\n",
    "from sklearn.utils import shuffle\n"
   ]
  },
  {
   "cell_type": "markdown",
   "id": "9c6cb300",
   "metadata": {},
   "source": [
    "## Load Data"
   ]
  },
  {
   "cell_type": "code",
   "execution_count": 3,
   "id": "bf39b3f3",
   "metadata": {},
   "outputs": [],
   "source": [
    "df1 = pd.read_csv('C:/Users/nasse/Desktop/Dataset/Covid19_every_country_daily_report_11.csv')"
   ]
  },
  {
   "cell_type": "code",
   "execution_count": 4,
   "id": "3129d434",
   "metadata": {},
   "outputs": [
    {
     "name": "stdout",
     "output_type": "stream",
     "text": [
      "<class 'pandas.core.frame.DataFrame'>\n",
      "RangeIndex: 14316 entries, 0 to 14315\n",
      "Data columns (total 9 columns):\n",
      " #   Column     Non-Null Count  Dtype  \n",
      "---  ------     --------------  -----  \n",
      " 0   active     14316 non-null  int64  \n",
      " 1   confirmed  14316 non-null  int64  \n",
      " 2   country    14316 non-null  object \n",
      " 3   date       14316 non-null  object \n",
      " 4   deaths     14316 non-null  int64  \n",
      " 5   latitude   14316 non-null  float64\n",
      " 6   longitude  14316 non-null  float64\n",
      " 7   recovered  14316 non-null  int64  \n",
      " 8   continent  14316 non-null  object \n",
      "dtypes: float64(2), int64(4), object(3)\n",
      "memory usage: 838.9+ KB\n"
     ]
    }
   ],
   "source": [
    "df1.info()"
   ]
  },
  {
   "cell_type": "code",
   "execution_count": 5,
   "id": "297e574c",
   "metadata": {},
   "outputs": [
    {
     "data": {
      "text/html": [
       "<div>\n",
       "<style scoped>\n",
       "    .dataframe tbody tr th:only-of-type {\n",
       "        vertical-align: middle;\n",
       "    }\n",
       "\n",
       "    .dataframe tbody tr th {\n",
       "        vertical-align: top;\n",
       "    }\n",
       "\n",
       "    .dataframe thead th {\n",
       "        text-align: right;\n",
       "    }\n",
       "</style>\n",
       "<table border=\"1\" class=\"dataframe\">\n",
       "  <thead>\n",
       "    <tr style=\"text-align: right;\">\n",
       "      <th></th>\n",
       "      <th>active</th>\n",
       "      <th>confirmed</th>\n",
       "      <th>deaths</th>\n",
       "      <th>latitude</th>\n",
       "      <th>longitude</th>\n",
       "      <th>recovered</th>\n",
       "    </tr>\n",
       "  </thead>\n",
       "  <tbody>\n",
       "    <tr>\n",
       "      <th>count</th>\n",
       "      <td>14316.000000</td>\n",
       "      <td>1.431600e+04</td>\n",
       "      <td>14316.000000</td>\n",
       "      <td>14316.000000</td>\n",
       "      <td>14316.000000</td>\n",
       "      <td>14316.000000</td>\n",
       "    </tr>\n",
       "    <tr>\n",
       "      <th>mean</th>\n",
       "      <td>6883.232118</td>\n",
       "      <td>1.368819e+04</td>\n",
       "      <td>804.120075</td>\n",
       "      <td>24.944573</td>\n",
       "      <td>22.892695</td>\n",
       "      <td>6689.150601</td>\n",
       "    </tr>\n",
       "    <tr>\n",
       "      <th>std</th>\n",
       "      <td>29860.278452</td>\n",
       "      <td>5.463908e+04</td>\n",
       "      <td>4014.643672</td>\n",
       "      <td>25.205507</td>\n",
       "      <td>55.397907</td>\n",
       "      <td>30103.781896</td>\n",
       "    </tr>\n",
       "    <tr>\n",
       "      <th>min</th>\n",
       "      <td>0.000000</td>\n",
       "      <td>0.000000e+00</td>\n",
       "      <td>0.000000</td>\n",
       "      <td>-38.416097</td>\n",
       "      <td>-102.552784</td>\n",
       "      <td>0.000000</td>\n",
       "    </tr>\n",
       "    <tr>\n",
       "      <th>25%</th>\n",
       "      <td>0.000000</td>\n",
       "      <td>0.000000e+00</td>\n",
       "      <td>0.000000</td>\n",
       "      <td>7.873054</td>\n",
       "      <td>1.601554</td>\n",
       "      <td>0.000000</td>\n",
       "    </tr>\n",
       "    <tr>\n",
       "      <th>50%</th>\n",
       "      <td>75.000000</td>\n",
       "      <td>1.370000e+02</td>\n",
       "      <td>2.000000</td>\n",
       "      <td>30.375321</td>\n",
       "      <td>21.824312</td>\n",
       "      <td>9.000000</td>\n",
       "    </tr>\n",
       "    <tr>\n",
       "      <th>75%</th>\n",
       "      <td>1931.250000</td>\n",
       "      <td>4.558000e+03</td>\n",
       "      <td>109.000000</td>\n",
       "      <td>45.943161</td>\n",
       "      <td>53.847818</td>\n",
       "      <td>1089.250000</td>\n",
       "    </tr>\n",
       "    <tr>\n",
       "      <th>max</th>\n",
       "      <td>655303.000000</td>\n",
       "      <td>1.368195e+06</td>\n",
       "      <td>203736.000000</td>\n",
       "      <td>64.963051</td>\n",
       "      <td>138.252924</td>\n",
       "      <td>757811.000000</td>\n",
       "    </tr>\n",
       "  </tbody>\n",
       "</table>\n",
       "</div>"
      ],
      "text/plain": [
       "              active     confirmed         deaths      latitude     longitude  \\\n",
       "count   14316.000000  1.431600e+04   14316.000000  14316.000000  14316.000000   \n",
       "mean     6883.232118  1.368819e+04     804.120075     24.944573     22.892695   \n",
       "std     29860.278452  5.463908e+04    4014.643672     25.205507     55.397907   \n",
       "min         0.000000  0.000000e+00       0.000000    -38.416097   -102.552784   \n",
       "25%         0.000000  0.000000e+00       0.000000      7.873054      1.601554   \n",
       "50%        75.000000  1.370000e+02       2.000000     30.375321     21.824312   \n",
       "75%      1931.250000  4.558000e+03     109.000000     45.943161     53.847818   \n",
       "max    655303.000000  1.368195e+06  203736.000000     64.963051    138.252924   \n",
       "\n",
       "           recovered  \n",
       "count   14316.000000  \n",
       "mean     6689.150601  \n",
       "std     30103.781896  \n",
       "min         0.000000  \n",
       "25%         0.000000  \n",
       "50%         9.000000  \n",
       "75%      1089.250000  \n",
       "max    757811.000000  "
      ]
     },
     "execution_count": 5,
     "metadata": {},
     "output_type": "execute_result"
    }
   ],
   "source": [
    "df1.describe()"
   ]
  },
  {
   "cell_type": "code",
   "execution_count": 6,
   "id": "065df75f",
   "metadata": {
    "scrolled": true
   },
   "outputs": [
    {
     "data": {
      "text/html": [
       "<div>\n",
       "<style scoped>\n",
       "    .dataframe tbody tr th:only-of-type {\n",
       "        vertical-align: middle;\n",
       "    }\n",
       "\n",
       "    .dataframe tbody tr th {\n",
       "        vertical-align: top;\n",
       "    }\n",
       "\n",
       "    .dataframe thead th {\n",
       "        text-align: right;\n",
       "    }\n",
       "</style>\n",
       "<table border=\"1\" class=\"dataframe\">\n",
       "  <thead>\n",
       "    <tr style=\"text-align: right;\">\n",
       "      <th></th>\n",
       "      <th>active</th>\n",
       "      <th>confirmed</th>\n",
       "      <th>country</th>\n",
       "      <th>date</th>\n",
       "      <th>deaths</th>\n",
       "      <th>latitude</th>\n",
       "      <th>longitude</th>\n",
       "      <th>recovered</th>\n",
       "      <th>continent</th>\n",
       "    </tr>\n",
       "  </thead>\n",
       "  <tbody>\n",
       "    <tr>\n",
       "      <th>0</th>\n",
       "      <td>0</td>\n",
       "      <td>0</td>\n",
       "      <td>Angola</td>\n",
       "      <td>1/1/2020</td>\n",
       "      <td>0</td>\n",
       "      <td>-11.202692</td>\n",
       "      <td>17.873887</td>\n",
       "      <td>0</td>\n",
       "      <td>Africa</td>\n",
       "    </tr>\n",
       "    <tr>\n",
       "      <th>1</th>\n",
       "      <td>0</td>\n",
       "      <td>0</td>\n",
       "      <td>Angola</td>\n",
       "      <td>1/2/2020</td>\n",
       "      <td>0</td>\n",
       "      <td>-11.202692</td>\n",
       "      <td>17.873887</td>\n",
       "      <td>0</td>\n",
       "      <td>Africa</td>\n",
       "    </tr>\n",
       "    <tr>\n",
       "      <th>2</th>\n",
       "      <td>0</td>\n",
       "      <td>0</td>\n",
       "      <td>Angola</td>\n",
       "      <td>1/3/2020</td>\n",
       "      <td>0</td>\n",
       "      <td>-11.202692</td>\n",
       "      <td>17.873887</td>\n",
       "      <td>0</td>\n",
       "      <td>Africa</td>\n",
       "    </tr>\n",
       "    <tr>\n",
       "      <th>3</th>\n",
       "      <td>0</td>\n",
       "      <td>0</td>\n",
       "      <td>Angola</td>\n",
       "      <td>1/4/2020</td>\n",
       "      <td>0</td>\n",
       "      <td>-11.202692</td>\n",
       "      <td>17.873887</td>\n",
       "      <td>0</td>\n",
       "      <td>Africa</td>\n",
       "    </tr>\n",
       "    <tr>\n",
       "      <th>4</th>\n",
       "      <td>0</td>\n",
       "      <td>0</td>\n",
       "      <td>Angola</td>\n",
       "      <td>1/5/2020</td>\n",
       "      <td>0</td>\n",
       "      <td>-11.202692</td>\n",
       "      <td>17.873887</td>\n",
       "      <td>0</td>\n",
       "      <td>Africa</td>\n",
       "    </tr>\n",
       "    <tr>\n",
       "      <th>5</th>\n",
       "      <td>0</td>\n",
       "      <td>0</td>\n",
       "      <td>Angola</td>\n",
       "      <td>1/6/2020</td>\n",
       "      <td>0</td>\n",
       "      <td>-11.202692</td>\n",
       "      <td>17.873887</td>\n",
       "      <td>0</td>\n",
       "      <td>Africa</td>\n",
       "    </tr>\n",
       "    <tr>\n",
       "      <th>6</th>\n",
       "      <td>0</td>\n",
       "      <td>0</td>\n",
       "      <td>Angola</td>\n",
       "      <td>1/7/2020</td>\n",
       "      <td>0</td>\n",
       "      <td>-11.202692</td>\n",
       "      <td>17.873887</td>\n",
       "      <td>0</td>\n",
       "      <td>Africa</td>\n",
       "    </tr>\n",
       "    <tr>\n",
       "      <th>7</th>\n",
       "      <td>0</td>\n",
       "      <td>0</td>\n",
       "      <td>Angola</td>\n",
       "      <td>1/8/2020</td>\n",
       "      <td>0</td>\n",
       "      <td>-11.202692</td>\n",
       "      <td>17.873887</td>\n",
       "      <td>0</td>\n",
       "      <td>Africa</td>\n",
       "    </tr>\n",
       "    <tr>\n",
       "      <th>8</th>\n",
       "      <td>0</td>\n",
       "      <td>0</td>\n",
       "      <td>Angola</td>\n",
       "      <td>1/9/2020</td>\n",
       "      <td>0</td>\n",
       "      <td>-11.202692</td>\n",
       "      <td>17.873887</td>\n",
       "      <td>0</td>\n",
       "      <td>Africa</td>\n",
       "    </tr>\n",
       "    <tr>\n",
       "      <th>9</th>\n",
       "      <td>0</td>\n",
       "      <td>0</td>\n",
       "      <td>Angola</td>\n",
       "      <td>1/10/2020</td>\n",
       "      <td>0</td>\n",
       "      <td>-11.202692</td>\n",
       "      <td>17.873887</td>\n",
       "      <td>0</td>\n",
       "      <td>Africa</td>\n",
       "    </tr>\n",
       "  </tbody>\n",
       "</table>\n",
       "</div>"
      ],
      "text/plain": [
       "   active  confirmed country       date  deaths   latitude  longitude  \\\n",
       "0       0          0  Angola   1/1/2020       0 -11.202692  17.873887   \n",
       "1       0          0  Angola   1/2/2020       0 -11.202692  17.873887   \n",
       "2       0          0  Angola   1/3/2020       0 -11.202692  17.873887   \n",
       "3       0          0  Angola   1/4/2020       0 -11.202692  17.873887   \n",
       "4       0          0  Angola   1/5/2020       0 -11.202692  17.873887   \n",
       "5       0          0  Angola   1/6/2020       0 -11.202692  17.873887   \n",
       "6       0          0  Angola   1/7/2020       0 -11.202692  17.873887   \n",
       "7       0          0  Angola   1/8/2020       0 -11.202692  17.873887   \n",
       "8       0          0  Angola   1/9/2020       0 -11.202692  17.873887   \n",
       "9       0          0  Angola  1/10/2020       0 -11.202692  17.873887   \n",
       "\n",
       "   recovered continent  \n",
       "0          0    Africa  \n",
       "1          0    Africa  \n",
       "2          0    Africa  \n",
       "3          0    Africa  \n",
       "4          0    Africa  \n",
       "5          0    Africa  \n",
       "6          0    Africa  \n",
       "7          0    Africa  \n",
       "8          0    Africa  \n",
       "9          0    Africa  "
      ]
     },
     "execution_count": 6,
     "metadata": {},
     "output_type": "execute_result"
    }
   ],
   "source": [
    "df1.head(10)"
   ]
  },
  {
   "cell_type": "code",
   "execution_count": 7,
   "id": "f385c486",
   "metadata": {},
   "outputs": [
    {
     "data": {
      "text/plain": [
       "pandas.core.frame.DataFrame"
      ]
     },
     "execution_count": 7,
     "metadata": {},
     "output_type": "execute_result"
    }
   ],
   "source": [
    "type(df1)"
   ]
  },
  {
   "cell_type": "markdown",
   "id": "c52bb08d",
   "metadata": {},
   "source": [
    "### Cleaning Data "
   ]
  },
  {
   "cell_type": "code",
   "execution_count": 8,
   "id": "cc20c1e7",
   "metadata": {},
   "outputs": [
    {
     "data": {
      "text/plain": [
       "active               0\n",
       "confirmed            0\n",
       "country         Angola\n",
       "date          1/1/2020\n",
       "deaths               0\n",
       "latitude    -11.202692\n",
       "longitude    17.873887\n",
       "recovered            0\n",
       "continent       Africa\n",
       "Name: 0, dtype: object"
      ]
     },
     "execution_count": 8,
     "metadata": {},
     "output_type": "execute_result"
    }
   ],
   "source": [
    "df1.iloc[0]"
   ]
  },
  {
   "cell_type": "code",
   "execution_count": 9,
   "id": "4d1be067",
   "metadata": {},
   "outputs": [
    {
     "data": {
      "text/plain": [
       "count         14316\n",
       "unique          173\n",
       "top       1/19/2020\n",
       "freq             83\n",
       "Name: date, dtype: object"
      ]
     },
     "execution_count": 9,
     "metadata": {},
     "output_type": "execute_result"
    }
   ],
   "source": [
    "df1.date.describe()"
   ]
  },
  {
   "cell_type": "code",
   "execution_count": 10,
   "id": "2c8a00e9",
   "metadata": {},
   "outputs": [
    {
     "data": {
      "text/plain": [
       "(14316, 9)"
      ]
     },
     "execution_count": 10,
     "metadata": {},
     "output_type": "execute_result"
    }
   ],
   "source": [
    "df1.shape"
   ]
  },
  {
   "cell_type": "code",
   "execution_count": 11,
   "id": "20204dd8",
   "metadata": {},
   "outputs": [
    {
     "data": {
      "text/html": [
       "<div>\n",
       "<style scoped>\n",
       "    .dataframe tbody tr th:only-of-type {\n",
       "        vertical-align: middle;\n",
       "    }\n",
       "\n",
       "    .dataframe tbody tr th {\n",
       "        vertical-align: top;\n",
       "    }\n",
       "\n",
       "    .dataframe thead th {\n",
       "        text-align: right;\n",
       "    }\n",
       "</style>\n",
       "<table border=\"1\" class=\"dataframe\">\n",
       "  <thead>\n",
       "    <tr style=\"text-align: right;\">\n",
       "      <th></th>\n",
       "      <th>active</th>\n",
       "      <th>confirmed</th>\n",
       "      <th>country</th>\n",
       "      <th>date</th>\n",
       "      <th>deaths</th>\n",
       "      <th>latitude</th>\n",
       "      <th>longitude</th>\n",
       "      <th>recovered</th>\n",
       "      <th>continent</th>\n",
       "    </tr>\n",
       "  </thead>\n",
       "  <tbody>\n",
       "    <tr>\n",
       "      <th>14306</th>\n",
       "      <td>2369</td>\n",
       "      <td>2879</td>\n",
       "      <td>Venezuela</td>\n",
       "      <td>6/12/2020</td>\n",
       "      <td>23</td>\n",
       "      <td>6.42375</td>\n",
       "      <td>-66.58973</td>\n",
       "      <td>487</td>\n",
       "      <td>South America</td>\n",
       "    </tr>\n",
       "    <tr>\n",
       "      <th>14307</th>\n",
       "      <td>2393</td>\n",
       "      <td>2904</td>\n",
       "      <td>Venezuela</td>\n",
       "      <td>6/13/2020</td>\n",
       "      <td>24</td>\n",
       "      <td>6.42375</td>\n",
       "      <td>-66.58973</td>\n",
       "      <td>487</td>\n",
       "      <td>South America</td>\n",
       "    </tr>\n",
       "    <tr>\n",
       "      <th>14308</th>\n",
       "      <td>2118</td>\n",
       "      <td>2978</td>\n",
       "      <td>Venezuela</td>\n",
       "      <td>6/14/2020</td>\n",
       "      <td>25</td>\n",
       "      <td>6.42375</td>\n",
       "      <td>-66.58973</td>\n",
       "      <td>835</td>\n",
       "      <td>South America</td>\n",
       "    </tr>\n",
       "    <tr>\n",
       "      <th>14309</th>\n",
       "      <td>2201</td>\n",
       "      <td>3062</td>\n",
       "      <td>Venezuela</td>\n",
       "      <td>6/15/2020</td>\n",
       "      <td>26</td>\n",
       "      <td>6.42375</td>\n",
       "      <td>-66.58973</td>\n",
       "      <td>835</td>\n",
       "      <td>South America</td>\n",
       "    </tr>\n",
       "    <tr>\n",
       "      <th>14310</th>\n",
       "      <td>2288</td>\n",
       "      <td>3150</td>\n",
       "      <td>Venezuela</td>\n",
       "      <td>6/16/2020</td>\n",
       "      <td>27</td>\n",
       "      <td>6.42375</td>\n",
       "      <td>-66.58973</td>\n",
       "      <td>835</td>\n",
       "      <td>South America</td>\n",
       "    </tr>\n",
       "    <tr>\n",
       "      <th>14311</th>\n",
       "      <td>2620</td>\n",
       "      <td>3483</td>\n",
       "      <td>Venezuela</td>\n",
       "      <td>6/18/2020</td>\n",
       "      <td>28</td>\n",
       "      <td>6.42375</td>\n",
       "      <td>-66.58973</td>\n",
       "      <td>835</td>\n",
       "      <td>South America</td>\n",
       "    </tr>\n",
       "    <tr>\n",
       "      <th>14312</th>\n",
       "      <td>3049</td>\n",
       "      <td>3917</td>\n",
       "      <td>Venezuela</td>\n",
       "      <td>6/21/2020</td>\n",
       "      <td>33</td>\n",
       "      <td>6.42375</td>\n",
       "      <td>-66.58973</td>\n",
       "      <td>835</td>\n",
       "      <td>South America</td>\n",
       "    </tr>\n",
       "    <tr>\n",
       "      <th>14313</th>\n",
       "      <td>3411</td>\n",
       "      <td>4779</td>\n",
       "      <td>Venezuela</td>\n",
       "      <td>6/26/2020</td>\n",
       "      <td>41</td>\n",
       "      <td>6.42375</td>\n",
       "      <td>-66.58973</td>\n",
       "      <td>1327</td>\n",
       "      <td>South America</td>\n",
       "    </tr>\n",
       "    <tr>\n",
       "      <th>14314</th>\n",
       "      <td>3761</td>\n",
       "      <td>5130</td>\n",
       "      <td>Venezuela</td>\n",
       "      <td>6/27/2020</td>\n",
       "      <td>42</td>\n",
       "      <td>6.42375</td>\n",
       "      <td>-66.58973</td>\n",
       "      <td>1327</td>\n",
       "      <td>South America</td>\n",
       "    </tr>\n",
       "    <tr>\n",
       "      <th>14315</th>\n",
       "      <td>3833</td>\n",
       "      <td>5530</td>\n",
       "      <td>Venezuela</td>\n",
       "      <td>6/29/2020</td>\n",
       "      <td>48</td>\n",
       "      <td>6.42375</td>\n",
       "      <td>-66.58973</td>\n",
       "      <td>1649</td>\n",
       "      <td>South America</td>\n",
       "    </tr>\n",
       "  </tbody>\n",
       "</table>\n",
       "</div>"
      ],
      "text/plain": [
       "       active  confirmed    country       date  deaths  latitude  longitude  \\\n",
       "14306    2369       2879  Venezuela  6/12/2020      23   6.42375  -66.58973   \n",
       "14307    2393       2904  Venezuela  6/13/2020      24   6.42375  -66.58973   \n",
       "14308    2118       2978  Venezuela  6/14/2020      25   6.42375  -66.58973   \n",
       "14309    2201       3062  Venezuela  6/15/2020      26   6.42375  -66.58973   \n",
       "14310    2288       3150  Venezuela  6/16/2020      27   6.42375  -66.58973   \n",
       "14311    2620       3483  Venezuela  6/18/2020      28   6.42375  -66.58973   \n",
       "14312    3049       3917  Venezuela  6/21/2020      33   6.42375  -66.58973   \n",
       "14313    3411       4779  Venezuela  6/26/2020      41   6.42375  -66.58973   \n",
       "14314    3761       5130  Venezuela  6/27/2020      42   6.42375  -66.58973   \n",
       "14315    3833       5530  Venezuela  6/29/2020      48   6.42375  -66.58973   \n",
       "\n",
       "       recovered      continent  \n",
       "14306        487  South America  \n",
       "14307        487  South America  \n",
       "14308        835  South America  \n",
       "14309        835  South America  \n",
       "14310        835  South America  \n",
       "14311        835  South America  \n",
       "14312        835  South America  \n",
       "14313       1327  South America  \n",
       "14314       1327  South America  \n",
       "14315       1649  South America  "
      ]
     },
     "execution_count": 11,
     "metadata": {},
     "output_type": "execute_result"
    }
   ],
   "source": [
    "df1.tail(10)"
   ]
  },
  {
   "cell_type": "code",
   "execution_count": 12,
   "id": "a0386866",
   "metadata": {},
   "outputs": [
    {
     "data": {
      "text/plain": [
       "active       0\n",
       "confirmed    0\n",
       "country      0\n",
       "date         0\n",
       "deaths       0\n",
       "latitude     0\n",
       "longitude    0\n",
       "recovered    0\n",
       "continent    0\n",
       "dtype: int64"
      ]
     },
     "execution_count": 12,
     "metadata": {},
     "output_type": "execute_result"
    }
   ],
   "source": [
    "df1.isna().sum()"
   ]
  },
  {
   "cell_type": "code",
   "execution_count": 13,
   "id": "77fcd262",
   "metadata": {},
   "outputs": [
    {
     "data": {
      "text/plain": [
       "Index(['active', 'confirmed', 'country', 'date', 'deaths', 'latitude',\n",
       "       'longitude', 'recovered', 'continent'],\n",
       "      dtype='object')"
      ]
     },
     "execution_count": 13,
     "metadata": {},
     "output_type": "execute_result"
    }
   ],
   "source": [
    "df1.columns"
   ]
  },
  {
   "cell_type": "code",
   "execution_count": 14,
   "id": "b3fe641f",
   "metadata": {},
   "outputs": [
    {
     "data": {
      "text/plain": [
       "active       0\n",
       "confirmed    0\n",
       "country      0\n",
       "date         0\n",
       "deaths       0\n",
       "latitude     0\n",
       "longitude    0\n",
       "recovered    0\n",
       "continent    0\n",
       "dtype: int64"
      ]
     },
     "execution_count": 14,
     "metadata": {},
     "output_type": "execute_result"
    }
   ],
   "source": [
    "df1.isna().sum()"
   ]
  },
  {
   "cell_type": "code",
   "execution_count": 15,
   "id": "2de26993",
   "metadata": {},
   "outputs": [
    {
     "data": {
      "text/plain": [
       "active         int64\n",
       "confirmed      int64\n",
       "country       object\n",
       "date          object\n",
       "deaths         int64\n",
       "latitude     float64\n",
       "longitude    float64\n",
       "recovered      int64\n",
       "continent     object\n",
       "dtype: object"
      ]
     },
     "execution_count": 15,
     "metadata": {},
     "output_type": "execute_result"
    }
   ],
   "source": [
    "df1.dtypes"
   ]
  },
  {
   "cell_type": "code",
   "execution_count": 16,
   "id": "079d634f",
   "metadata": {},
   "outputs": [
    {
     "data": {
      "text/plain": [
       "array([   0,    1,    2, ..., 3917, 4779, 5130], dtype=int64)"
      ]
     },
     "execution_count": 16,
     "metadata": {},
     "output_type": "execute_result"
    }
   ],
   "source": [
    "df1.confirmed.unique()"
   ]
  },
  {
   "cell_type": "code",
   "execution_count": 17,
   "id": "e470b100",
   "metadata": {},
   "outputs": [
    {
     "data": {
      "text/plain": [
       "array(['Africa', 'Asia', 'Europe', 'North America', 'South America'],\n",
       "      dtype=object)"
      ]
     },
     "execution_count": 17,
     "metadata": {},
     "output_type": "execute_result"
    }
   ],
   "source": [
    "df1.continent.unique()"
   ]
  },
  {
   "cell_type": "code",
   "execution_count": 18,
   "id": "d029dfe6",
   "metadata": {},
   "outputs": [
    {
     "data": {
      "text/html": [
       "<div>\n",
       "<style scoped>\n",
       "    .dataframe tbody tr th:only-of-type {\n",
       "        vertical-align: middle;\n",
       "    }\n",
       "\n",
       "    .dataframe tbody tr th {\n",
       "        vertical-align: top;\n",
       "    }\n",
       "\n",
       "    .dataframe thead th {\n",
       "        text-align: right;\n",
       "    }\n",
       "</style>\n",
       "<table border=\"1\" class=\"dataframe\">\n",
       "  <thead>\n",
       "    <tr style=\"text-align: right;\">\n",
       "      <th></th>\n",
       "      <th>active</th>\n",
       "      <th>confirmed</th>\n",
       "      <th>country</th>\n",
       "      <th>date</th>\n",
       "      <th>deaths</th>\n",
       "      <th>latitude</th>\n",
       "      <th>longitude</th>\n",
       "      <th>recovered</th>\n",
       "      <th>continent</th>\n",
       "    </tr>\n",
       "  </thead>\n",
       "  <tbody>\n",
       "    <tr>\n",
       "      <th>0</th>\n",
       "      <td>0</td>\n",
       "      <td>0</td>\n",
       "      <td>Angola</td>\n",
       "      <td>1/1/2020</td>\n",
       "      <td>0</td>\n",
       "      <td>-11.202692</td>\n",
       "      <td>17.873887</td>\n",
       "      <td>0</td>\n",
       "      <td>Africa</td>\n",
       "    </tr>\n",
       "    <tr>\n",
       "      <th>1</th>\n",
       "      <td>0</td>\n",
       "      <td>0</td>\n",
       "      <td>Angola</td>\n",
       "      <td>1/2/2020</td>\n",
       "      <td>0</td>\n",
       "      <td>-11.202692</td>\n",
       "      <td>17.873887</td>\n",
       "      <td>0</td>\n",
       "      <td>Africa</td>\n",
       "    </tr>\n",
       "    <tr>\n",
       "      <th>2</th>\n",
       "      <td>0</td>\n",
       "      <td>0</td>\n",
       "      <td>Angola</td>\n",
       "      <td>1/3/2020</td>\n",
       "      <td>0</td>\n",
       "      <td>-11.202692</td>\n",
       "      <td>17.873887</td>\n",
       "      <td>0</td>\n",
       "      <td>Africa</td>\n",
       "    </tr>\n",
       "    <tr>\n",
       "      <th>3</th>\n",
       "      <td>0</td>\n",
       "      <td>0</td>\n",
       "      <td>Angola</td>\n",
       "      <td>1/4/2020</td>\n",
       "      <td>0</td>\n",
       "      <td>-11.202692</td>\n",
       "      <td>17.873887</td>\n",
       "      <td>0</td>\n",
       "      <td>Africa</td>\n",
       "    </tr>\n",
       "    <tr>\n",
       "      <th>4</th>\n",
       "      <td>0</td>\n",
       "      <td>0</td>\n",
       "      <td>Angola</td>\n",
       "      <td>1/5/2020</td>\n",
       "      <td>0</td>\n",
       "      <td>-11.202692</td>\n",
       "      <td>17.873887</td>\n",
       "      <td>0</td>\n",
       "      <td>Africa</td>\n",
       "    </tr>\n",
       "    <tr>\n",
       "      <th>5</th>\n",
       "      <td>0</td>\n",
       "      <td>0</td>\n",
       "      <td>Angola</td>\n",
       "      <td>1/6/2020</td>\n",
       "      <td>0</td>\n",
       "      <td>-11.202692</td>\n",
       "      <td>17.873887</td>\n",
       "      <td>0</td>\n",
       "      <td>Africa</td>\n",
       "    </tr>\n",
       "    <tr>\n",
       "      <th>6</th>\n",
       "      <td>0</td>\n",
       "      <td>0</td>\n",
       "      <td>Angola</td>\n",
       "      <td>1/7/2020</td>\n",
       "      <td>0</td>\n",
       "      <td>-11.202692</td>\n",
       "      <td>17.873887</td>\n",
       "      <td>0</td>\n",
       "      <td>Africa</td>\n",
       "    </tr>\n",
       "    <tr>\n",
       "      <th>7</th>\n",
       "      <td>0</td>\n",
       "      <td>0</td>\n",
       "      <td>Angola</td>\n",
       "      <td>1/8/2020</td>\n",
       "      <td>0</td>\n",
       "      <td>-11.202692</td>\n",
       "      <td>17.873887</td>\n",
       "      <td>0</td>\n",
       "      <td>Africa</td>\n",
       "    </tr>\n",
       "    <tr>\n",
       "      <th>8</th>\n",
       "      <td>0</td>\n",
       "      <td>0</td>\n",
       "      <td>Angola</td>\n",
       "      <td>1/9/2020</td>\n",
       "      <td>0</td>\n",
       "      <td>-11.202692</td>\n",
       "      <td>17.873887</td>\n",
       "      <td>0</td>\n",
       "      <td>Africa</td>\n",
       "    </tr>\n",
       "    <tr>\n",
       "      <th>9</th>\n",
       "      <td>0</td>\n",
       "      <td>0</td>\n",
       "      <td>Angola</td>\n",
       "      <td>1/10/2020</td>\n",
       "      <td>0</td>\n",
       "      <td>-11.202692</td>\n",
       "      <td>17.873887</td>\n",
       "      <td>0</td>\n",
       "      <td>Africa</td>\n",
       "    </tr>\n",
       "  </tbody>\n",
       "</table>\n",
       "</div>"
      ],
      "text/plain": [
       "   active  confirmed country       date  deaths   latitude  longitude  \\\n",
       "0       0          0  Angola   1/1/2020       0 -11.202692  17.873887   \n",
       "1       0          0  Angola   1/2/2020       0 -11.202692  17.873887   \n",
       "2       0          0  Angola   1/3/2020       0 -11.202692  17.873887   \n",
       "3       0          0  Angola   1/4/2020       0 -11.202692  17.873887   \n",
       "4       0          0  Angola   1/5/2020       0 -11.202692  17.873887   \n",
       "5       0          0  Angola   1/6/2020       0 -11.202692  17.873887   \n",
       "6       0          0  Angola   1/7/2020       0 -11.202692  17.873887   \n",
       "7       0          0  Angola   1/8/2020       0 -11.202692  17.873887   \n",
       "8       0          0  Angola   1/9/2020       0 -11.202692  17.873887   \n",
       "9       0          0  Angola  1/10/2020       0 -11.202692  17.873887   \n",
       "\n",
       "   recovered continent  \n",
       "0          0    Africa  \n",
       "1          0    Africa  \n",
       "2          0    Africa  \n",
       "3          0    Africa  \n",
       "4          0    Africa  \n",
       "5          0    Africa  \n",
       "6          0    Africa  \n",
       "7          0    Africa  \n",
       "8          0    Africa  \n",
       "9          0    Africa  "
      ]
     },
     "execution_count": 18,
     "metadata": {},
     "output_type": "execute_result"
    }
   ],
   "source": [
    "df1[df1.confirmed <=0].head(10)"
   ]
  },
  {
   "cell_type": "code",
   "execution_count": 19,
   "id": "2b1b980b",
   "metadata": {},
   "outputs": [],
   "source": [
    "df1.drop(df1[df1['confirmed'] <=0].index, inplace = True) #deaths and revoverd = 0  coreect if the confirmed >=1 info"
   ]
  },
  {
   "cell_type": "code",
   "execution_count": 20,
   "id": "c049644d",
   "metadata": {},
   "outputs": [
    {
     "data": {
      "text/html": [
       "<div>\n",
       "<style scoped>\n",
       "    .dataframe tbody tr th:only-of-type {\n",
       "        vertical-align: middle;\n",
       "    }\n",
       "\n",
       "    .dataframe tbody tr th {\n",
       "        vertical-align: top;\n",
       "    }\n",
       "\n",
       "    .dataframe thead th {\n",
       "        text-align: right;\n",
       "    }\n",
       "</style>\n",
       "<table border=\"1\" class=\"dataframe\">\n",
       "  <thead>\n",
       "    <tr style=\"text-align: right;\">\n",
       "      <th></th>\n",
       "      <th>active</th>\n",
       "      <th>confirmed</th>\n",
       "      <th>country</th>\n",
       "      <th>date</th>\n",
       "      <th>deaths</th>\n",
       "      <th>latitude</th>\n",
       "      <th>longitude</th>\n",
       "      <th>recovered</th>\n",
       "      <th>continent</th>\n",
       "    </tr>\n",
       "  </thead>\n",
       "  <tbody>\n",
       "    <tr>\n",
       "      <th>79</th>\n",
       "      <td>1</td>\n",
       "      <td>1</td>\n",
       "      <td>Angola</td>\n",
       "      <td>3/20/2020</td>\n",
       "      <td>0</td>\n",
       "      <td>-11.202692</td>\n",
       "      <td>17.873887</td>\n",
       "      <td>0</td>\n",
       "      <td>Africa</td>\n",
       "    </tr>\n",
       "    <tr>\n",
       "      <th>80</th>\n",
       "      <td>2</td>\n",
       "      <td>2</td>\n",
       "      <td>Angola</td>\n",
       "      <td>3/21/2020</td>\n",
       "      <td>0</td>\n",
       "      <td>-11.202692</td>\n",
       "      <td>17.873887</td>\n",
       "      <td>0</td>\n",
       "      <td>Africa</td>\n",
       "    </tr>\n",
       "    <tr>\n",
       "      <th>81</th>\n",
       "      <td>2</td>\n",
       "      <td>2</td>\n",
       "      <td>Angola</td>\n",
       "      <td>3/22/2020</td>\n",
       "      <td>0</td>\n",
       "      <td>-11.202692</td>\n",
       "      <td>17.873887</td>\n",
       "      <td>0</td>\n",
       "      <td>Africa</td>\n",
       "    </tr>\n",
       "    <tr>\n",
       "      <th>82</th>\n",
       "      <td>3</td>\n",
       "      <td>3</td>\n",
       "      <td>Angola</td>\n",
       "      <td>3/23/2020</td>\n",
       "      <td>0</td>\n",
       "      <td>-11.202692</td>\n",
       "      <td>17.873887</td>\n",
       "      <td>0</td>\n",
       "      <td>Africa</td>\n",
       "    </tr>\n",
       "    <tr>\n",
       "      <th>83</th>\n",
       "      <td>3</td>\n",
       "      <td>3</td>\n",
       "      <td>Angola</td>\n",
       "      <td>3/24/2020</td>\n",
       "      <td>0</td>\n",
       "      <td>-11.202692</td>\n",
       "      <td>17.873887</td>\n",
       "      <td>0</td>\n",
       "      <td>Africa</td>\n",
       "    </tr>\n",
       "    <tr>\n",
       "      <th>...</th>\n",
       "      <td>...</td>\n",
       "      <td>...</td>\n",
       "      <td>...</td>\n",
       "      <td>...</td>\n",
       "      <td>...</td>\n",
       "      <td>...</td>\n",
       "      <td>...</td>\n",
       "      <td>...</td>\n",
       "      <td>...</td>\n",
       "    </tr>\n",
       "    <tr>\n",
       "      <th>14311</th>\n",
       "      <td>2620</td>\n",
       "      <td>3483</td>\n",
       "      <td>Venezuela</td>\n",
       "      <td>6/18/2020</td>\n",
       "      <td>28</td>\n",
       "      <td>6.423750</td>\n",
       "      <td>-66.589730</td>\n",
       "      <td>835</td>\n",
       "      <td>South America</td>\n",
       "    </tr>\n",
       "    <tr>\n",
       "      <th>14312</th>\n",
       "      <td>3049</td>\n",
       "      <td>3917</td>\n",
       "      <td>Venezuela</td>\n",
       "      <td>6/21/2020</td>\n",
       "      <td>33</td>\n",
       "      <td>6.423750</td>\n",
       "      <td>-66.589730</td>\n",
       "      <td>835</td>\n",
       "      <td>South America</td>\n",
       "    </tr>\n",
       "    <tr>\n",
       "      <th>14313</th>\n",
       "      <td>3411</td>\n",
       "      <td>4779</td>\n",
       "      <td>Venezuela</td>\n",
       "      <td>6/26/2020</td>\n",
       "      <td>41</td>\n",
       "      <td>6.423750</td>\n",
       "      <td>-66.589730</td>\n",
       "      <td>1327</td>\n",
       "      <td>South America</td>\n",
       "    </tr>\n",
       "    <tr>\n",
       "      <th>14314</th>\n",
       "      <td>3761</td>\n",
       "      <td>5130</td>\n",
       "      <td>Venezuela</td>\n",
       "      <td>6/27/2020</td>\n",
       "      <td>42</td>\n",
       "      <td>6.423750</td>\n",
       "      <td>-66.589730</td>\n",
       "      <td>1327</td>\n",
       "      <td>South America</td>\n",
       "    </tr>\n",
       "    <tr>\n",
       "      <th>14315</th>\n",
       "      <td>3833</td>\n",
       "      <td>5530</td>\n",
       "      <td>Venezuela</td>\n",
       "      <td>6/29/2020</td>\n",
       "      <td>48</td>\n",
       "      <td>6.423750</td>\n",
       "      <td>-66.589730</td>\n",
       "      <td>1649</td>\n",
       "      <td>South America</td>\n",
       "    </tr>\n",
       "  </tbody>\n",
       "</table>\n",
       "<p>9712 rows × 9 columns</p>\n",
       "</div>"
      ],
      "text/plain": [
       "       active  confirmed    country       date  deaths   latitude  longitude  \\\n",
       "79          1          1     Angola  3/20/2020       0 -11.202692  17.873887   \n",
       "80          2          2     Angola  3/21/2020       0 -11.202692  17.873887   \n",
       "81          2          2     Angola  3/22/2020       0 -11.202692  17.873887   \n",
       "82          3          3     Angola  3/23/2020       0 -11.202692  17.873887   \n",
       "83          3          3     Angola  3/24/2020       0 -11.202692  17.873887   \n",
       "...       ...        ...        ...        ...     ...        ...        ...   \n",
       "14311    2620       3483  Venezuela  6/18/2020      28   6.423750 -66.589730   \n",
       "14312    3049       3917  Venezuela  6/21/2020      33   6.423750 -66.589730   \n",
       "14313    3411       4779  Venezuela  6/26/2020      41   6.423750 -66.589730   \n",
       "14314    3761       5130  Venezuela  6/27/2020      42   6.423750 -66.589730   \n",
       "14315    3833       5530  Venezuela  6/29/2020      48   6.423750 -66.589730   \n",
       "\n",
       "       recovered      continent  \n",
       "79             0         Africa  \n",
       "80             0         Africa  \n",
       "81             0         Africa  \n",
       "82             0         Africa  \n",
       "83             0         Africa  \n",
       "...          ...            ...  \n",
       "14311        835  South America  \n",
       "14312        835  South America  \n",
       "14313       1327  South America  \n",
       "14314       1327  South America  \n",
       "14315       1649  South America  \n",
       "\n",
       "[9712 rows x 9 columns]"
      ]
     },
     "execution_count": 20,
     "metadata": {},
     "output_type": "execute_result"
    }
   ],
   "source": [
    "df1"
   ]
  },
  {
   "cell_type": "code",
   "execution_count": 21,
   "id": "94d0f894",
   "metadata": {},
   "outputs": [
    {
     "data": {
      "text/plain": [
       "(9712, 9)"
      ]
     },
     "execution_count": 21,
     "metadata": {},
     "output_type": "execute_result"
    }
   ],
   "source": [
    "df1.shape "
   ]
  },
  {
   "cell_type": "markdown",
   "id": "0401ee93",
   "metadata": {},
   "source": [
    "## Questions"
   ]
  },
  {
   "cell_type": "code",
   "execution_count": 22,
   "id": "133f3cf4",
   "metadata": {},
   "outputs": [
    {
     "data": {
      "text/plain": [
       "195960149"
      ]
     },
     "execution_count": 22,
     "metadata": {},
     "output_type": "execute_result"
    }
   ],
   "source": [
    "df1['confirmed'].sum()"
   ]
  },
  {
   "cell_type": "code",
   "execution_count": 23,
   "id": "7db68921",
   "metadata": {},
   "outputs": [
    {
     "data": {
      "text/plain": [
       "11511783"
      ]
     },
     "execution_count": 23,
     "metadata": {},
     "output_type": "execute_result"
    }
   ],
   "source": [
    "df1['deaths'].sum()"
   ]
  },
  {
   "cell_type": "code",
   "execution_count": 24,
   "id": "daf33282",
   "metadata": {},
   "outputs": [
    {
     "data": {
      "text/plain": [
       "95761880"
      ]
     },
     "execution_count": 24,
     "metadata": {},
     "output_type": "execute_result"
    }
   ],
   "source": [
    "df1['recovered'].sum()"
   ]
  },
  {
   "cell_type": "code",
   "execution_count": 25,
   "id": "cfafdac6",
   "metadata": {},
   "outputs": [
    {
     "data": {
      "text/plain": [
       "98540351"
      ]
     },
     "execution_count": 25,
     "metadata": {},
     "output_type": "execute_result"
    }
   ],
   "source": [
    "df1['active'].sum()"
   ]
  },
  {
   "cell_type": "code",
   "execution_count": 26,
   "id": "b2ffc524",
   "metadata": {},
   "outputs": [
    {
     "data": {
      "text/plain": [
       "203736"
      ]
     },
     "execution_count": 26,
     "metadata": {},
     "output_type": "execute_result"
    }
   ],
   "source": [
    "df1['deaths'].max()"
   ]
  },
  {
   "cell_type": "code",
   "execution_count": 27,
   "id": "3c8018bc",
   "metadata": {},
   "outputs": [
    {
     "data": {
      "text/html": [
       "<div>\n",
       "<style scoped>\n",
       "    .dataframe tbody tr th:only-of-type {\n",
       "        vertical-align: middle;\n",
       "    }\n",
       "\n",
       "    .dataframe tbody tr th {\n",
       "        vertical-align: top;\n",
       "    }\n",
       "\n",
       "    .dataframe thead th {\n",
       "        text-align: right;\n",
       "    }\n",
       "</style>\n",
       "<table border=\"1\" class=\"dataframe\">\n",
       "  <thead>\n",
       "    <tr style=\"text-align: right;\">\n",
       "      <th></th>\n",
       "      <th>confirmed</th>\n",
       "    </tr>\n",
       "    <tr>\n",
       "      <th>continent</th>\n",
       "      <th></th>\n",
       "    </tr>\n",
       "  </thead>\n",
       "  <tbody>\n",
       "    <tr>\n",
       "      <th>Europe</th>\n",
       "      <td>96437673</td>\n",
       "    </tr>\n",
       "    <tr>\n",
       "      <th>South America</th>\n",
       "      <td>45565034</td>\n",
       "    </tr>\n",
       "    <tr>\n",
       "      <th>Asia</th>\n",
       "      <td>42586581</td>\n",
       "    </tr>\n",
       "    <tr>\n",
       "      <th>North America</th>\n",
       "      <td>5759216</td>\n",
       "    </tr>\n",
       "    <tr>\n",
       "      <th>Africa</th>\n",
       "      <td>5611645</td>\n",
       "    </tr>\n",
       "  </tbody>\n",
       "</table>\n",
       "</div>"
      ],
      "text/plain": [
       "               confirmed\n",
       "continent               \n",
       "Europe          96437673\n",
       "South America   45565034\n",
       "Asia            42586581\n",
       "North America    5759216\n",
       "Africa           5611645"
      ]
     },
     "execution_count": 27,
     "metadata": {},
     "output_type": "execute_result"
    }
   ],
   "source": [
    "df1.groupby('continent')[['confirmed']].sum().sort_values('confirmed', ascending=False)"
   ]
  },
  {
   "cell_type": "code",
   "execution_count": 28,
   "id": "d8816019",
   "metadata": {},
   "outputs": [
    {
     "data": {
      "text/html": [
       "<div>\n",
       "<style scoped>\n",
       "    .dataframe tbody tr th:only-of-type {\n",
       "        vertical-align: middle;\n",
       "    }\n",
       "\n",
       "    .dataframe tbody tr th {\n",
       "        vertical-align: top;\n",
       "    }\n",
       "\n",
       "    .dataframe thead th {\n",
       "        text-align: right;\n",
       "    }\n",
       "</style>\n",
       "<table border=\"1\" class=\"dataframe\">\n",
       "  <thead>\n",
       "    <tr style=\"text-align: right;\">\n",
       "      <th></th>\n",
       "      <th>confirmed</th>\n",
       "    </tr>\n",
       "    <tr>\n",
       "      <th>continent</th>\n",
       "      <th></th>\n",
       "    </tr>\n",
       "  </thead>\n",
       "  <tbody>\n",
       "    <tr>\n",
       "      <th>Africa</th>\n",
       "      <td>5611645</td>\n",
       "    </tr>\n",
       "    <tr>\n",
       "      <th>North America</th>\n",
       "      <td>5759216</td>\n",
       "    </tr>\n",
       "    <tr>\n",
       "      <th>Asia</th>\n",
       "      <td>42586581</td>\n",
       "    </tr>\n",
       "    <tr>\n",
       "      <th>South America</th>\n",
       "      <td>45565034</td>\n",
       "    </tr>\n",
       "    <tr>\n",
       "      <th>Europe</th>\n",
       "      <td>96437673</td>\n",
       "    </tr>\n",
       "  </tbody>\n",
       "</table>\n",
       "</div>"
      ],
      "text/plain": [
       "               confirmed\n",
       "continent               \n",
       "Africa           5611645\n",
       "North America    5759216\n",
       "Asia            42586581\n",
       "South America   45565034\n",
       "Europe          96437673"
      ]
     },
     "execution_count": 28,
     "metadata": {},
     "output_type": "execute_result"
    }
   ],
   "source": [
    "df1.groupby('continent')[['confirmed']].sum().sort_values('confirmed', ascending=True)"
   ]
  },
  {
   "cell_type": "code",
   "execution_count": 29,
   "id": "c880025a",
   "metadata": {},
   "outputs": [
    {
     "data": {
      "text/html": [
       "<div>\n",
       "<style scoped>\n",
       "    .dataframe tbody tr th:only-of-type {\n",
       "        vertical-align: middle;\n",
       "    }\n",
       "\n",
       "    .dataframe tbody tr th {\n",
       "        vertical-align: top;\n",
       "    }\n",
       "\n",
       "    .dataframe thead th {\n",
       "        text-align: right;\n",
       "    }\n",
       "</style>\n",
       "<table border=\"1\" class=\"dataframe\">\n",
       "  <thead>\n",
       "    <tr style=\"text-align: right;\">\n",
       "      <th></th>\n",
       "      <th>deaths</th>\n",
       "    </tr>\n",
       "    <tr>\n",
       "      <th>continent</th>\n",
       "      <th></th>\n",
       "    </tr>\n",
       "  </thead>\n",
       "  <tbody>\n",
       "    <tr>\n",
       "      <th>Africa</th>\n",
       "      <td>153716</td>\n",
       "    </tr>\n",
       "    <tr>\n",
       "      <th>North America</th>\n",
       "      <td>563030</td>\n",
       "    </tr>\n",
       "    <tr>\n",
       "      <th>Asia</th>\n",
       "      <td>1329045</td>\n",
       "    </tr>\n",
       "    <tr>\n",
       "      <th>South America</th>\n",
       "      <td>2239386</td>\n",
       "    </tr>\n",
       "    <tr>\n",
       "      <th>Europe</th>\n",
       "      <td>7226606</td>\n",
       "    </tr>\n",
       "  </tbody>\n",
       "</table>\n",
       "</div>"
      ],
      "text/plain": [
       "                deaths\n",
       "continent             \n",
       "Africa          153716\n",
       "North America   563030\n",
       "Asia           1329045\n",
       "South America  2239386\n",
       "Europe         7226606"
      ]
     },
     "execution_count": 29,
     "metadata": {},
     "output_type": "execute_result"
    }
   ],
   "source": [
    "df1.groupby('continent')[['deaths']].sum().sort_values('deaths', ascending=True)"
   ]
  },
  {
   "cell_type": "code",
   "execution_count": 30,
   "id": "5fcd364f",
   "metadata": {},
   "outputs": [
    {
     "data": {
      "text/html": [
       "<div>\n",
       "<style scoped>\n",
       "    .dataframe tbody tr th:only-of-type {\n",
       "        vertical-align: middle;\n",
       "    }\n",
       "\n",
       "    .dataframe tbody tr th {\n",
       "        vertical-align: top;\n",
       "    }\n",
       "\n",
       "    .dataframe thead th {\n",
       "        text-align: right;\n",
       "    }\n",
       "</style>\n",
       "<table border=\"1\" class=\"dataframe\">\n",
       "  <thead>\n",
       "    <tr style=\"text-align: right;\">\n",
       "      <th></th>\n",
       "      <th>deaths</th>\n",
       "    </tr>\n",
       "    <tr>\n",
       "      <th>continent</th>\n",
       "      <th></th>\n",
       "    </tr>\n",
       "  </thead>\n",
       "  <tbody>\n",
       "    <tr>\n",
       "      <th>Europe</th>\n",
       "      <td>7226606</td>\n",
       "    </tr>\n",
       "    <tr>\n",
       "      <th>South America</th>\n",
       "      <td>2239386</td>\n",
       "    </tr>\n",
       "    <tr>\n",
       "      <th>Asia</th>\n",
       "      <td>1329045</td>\n",
       "    </tr>\n",
       "    <tr>\n",
       "      <th>North America</th>\n",
       "      <td>563030</td>\n",
       "    </tr>\n",
       "    <tr>\n",
       "      <th>Africa</th>\n",
       "      <td>153716</td>\n",
       "    </tr>\n",
       "  </tbody>\n",
       "</table>\n",
       "</div>"
      ],
      "text/plain": [
       "                deaths\n",
       "continent             \n",
       "Europe         7226606\n",
       "South America  2239386\n",
       "Asia           1329045\n",
       "North America   563030\n",
       "Africa          153716"
      ]
     },
     "execution_count": 30,
     "metadata": {},
     "output_type": "execute_result"
    }
   ],
   "source": [
    "df1.groupby('continent')[['deaths']].sum().sort_values('deaths', ascending=False)"
   ]
  },
  {
   "cell_type": "markdown",
   "id": "0c2afd70",
   "metadata": {},
   "source": [
    "### Visuals data"
   ]
  },
  {
   "cell_type": "code",
   "execution_count": 31,
   "id": "6575c149",
   "metadata": {},
   "outputs": [
    {
     "data": {
      "image/png": "[encoded data removed]",
      "text/plain": [
       "<Figure size 432x288 with 1 Axes>"
      ]
     },
     "metadata": {
      "needs_background": "light"
     },
     "output_type": "display_data"
    }
   ],
   "source": [
    "\n",
    "df1.groupby(['continent']).sum().plot(kind='bar',y='deaths') \n",
    "\n",
    "\n",
    "plt.title('deaths Report'); \n",
    "\n"
   ]
  },
  {
   "cell_type": "code",
   "execution_count": 39,
   "id": "2296e145",
   "metadata": {},
   "outputs": [
    {
     "data": {
      "image/png": "[encoded data removed]",
      "text/plain": [
       "<Figure size 432x288 with 1 Axes>"
      ]
     },
     "metadata": {},
     "output_type": "display_data"
    }
   ],
   "source": [
    "data = [6, 22, 25, 49, 3]\n",
    "labels = ['North America','South America','Asia','Europe','Africa']\n",
    "colors = sns.color_palette('bright')[0:5]\n",
    "plt.title(\"Confirmed Cases\")\n",
    "plt.pie(data, labels = labels, colors = colors, autopct='%.0f%%')\n",
    "plt.show()\n"
   ]
  },
  {
   "cell_type": "code",
   "execution_count": 7,
   "id": "7e9dc50e",
   "metadata": {},
   "outputs": [
    {
     "data": {
      "image/png": "[encoded data removed]",
      "text/plain": [
       "<Figure size 432x288 with 1 Axes>"
      ]
     },
     "metadata": {
      "needs_background": "light"
     },
     "output_type": "display_data"
    }
   ],
   "source": [
    "\n",
    "df1.groupby(['continent']).sum().plot(kind='bar',y='recovered') \n",
    "\n",
    "plt.title('recovered Report'); \n",
    "plt.grid()"
   ]
  },
  {
   "cell_type": "code",
   "execution_count": 35,
   "id": "8d628f03",
   "metadata": {},
   "outputs": [
    {
     "data": {
      "text/plain": [
       "<seaborn.axisgrid.PairGrid at 0xbe87a30>"
      ]
     },
     "execution_count": 35,
     "metadata": {},
     "output_type": "execute_result"
    },
    {
     "data": {
      "image/png": "[encoded data removed]",
      "text/plain": [
       "<Figure size 1080x1080 with 42 Axes>"
      ]
     },
     "metadata": {
      "needs_background": "light"
     },
     "output_type": "display_data"
    }
   ],
   "source": [
    "sns.pairplot(df1)"
   ]
  },
  {
   "cell_type": "code",
   "execution_count": null,
   "id": "d2f1dfe9",
   "metadata": {},
   "outputs": [],
   "source": []
  }
 ],
 "metadata": {
  "kernelspec": {
   "display_name": "Python 3",
   "language": "python",
   "name": "python3"
  },
  "language_info": {
   "codemirror_mode": {
    "name": "ipython",
    "version": 3
   },
   "file_extension": ".py",
   "mimetype": "text/x-python",
   "name": "python",
   "nbconvert_exporter": "python",
   "pygments_lexer": "ipython3",
   "version": "3.8.8"
  }
 },
 "nbformat": 4,
 "nbformat_minor": 5
}
